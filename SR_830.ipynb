### IMPORT PACKAGES
from time import sleep
import numpy as np
from qcodes.dataset import do0d, load_or_create_experiment
from qcodes.instrument import Instrument
from qcodes.instrument_drivers.stanford_research import SR830
from qcodes.validators import Numbers
import time
import matplotlib.pyplot as plt

### ESTABLISH LOCK-IN CONNECTION 
lockin = SR830('lockin', 'GPIB0::1::INSTR') # init lock-in connection
lockin.print_readable_snapshot() # check lock-in status
